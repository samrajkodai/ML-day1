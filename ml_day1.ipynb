{
  "nbformat": 4,
  "nbformat_minor": 0,
  "metadata": {
    "colab": {
      "name": "ml day1.ipynb",
      "provenance": []
    },
    "kernelspec": {
      "name": "python3",
      "display_name": "Python 3"
    },
    "language_info": {
      "name": "python"
    }
  },
  "cells": [
    {
      "cell_type": "code",
      "metadata": {
        "id": "I9DHmtMNx6iP"
      },
      "source": [
        "#public\n",
        "class mock:\n",
        "  def __init__(self,first_name,last_name,mail,phone,skill):\n",
        "    self.first_name=first_name\n",
        "    self.last_name=last_name\n",
        "    self.mail=mail\n",
        "    self.phone=phone\n",
        "    self.skill=skill\n",
        "  \n",
        "  def test(self):\n",
        "    print(self.first_name)\n",
        "    print(self.last_name)\n",
        "    print(self.mail)\n",
        "    print(self.phone)\n",
        "    print(self.skill)\n",
        "\n",
        "    "
      ],
      "execution_count": null,
      "outputs": []
    },
    {
      "cell_type": "code",
      "metadata": {
        "colab": {
          "base_uri": "https://localhost:8080/"
        },
        "id": "rnWMfvwKyXte",
        "outputId": "4db7517f-25a1-4906-85d5-713845ea582b"
      },
      "source": [
        "p1=mock(\"sam\",\"raj\",\"samcse\",\"9080\",\"python\")\n",
        "p1.test()\n"
      ],
      "execution_count": null,
      "outputs": [
        {
          "output_type": "stream",
          "text": [
            "sam\n",
            "raj\n",
            "samcse\n",
            "9080\n",
            "python\n"
          ],
          "name": "stdout"
        }
      ]
    },
    {
      "cell_type": "code",
      "metadata": {
        "id": "TKyxWRw9ysHW"
      },
      "source": [
        "#protected\n",
        "class mock:\n",
        "  def __init__(self,first_name,last_name,mail,phone,skill):\n",
        "    self.first_name=first_name\n",
        "    self.last_name=last_name\n",
        "    self._mail=mail\n",
        "    self._phone=phone\n",
        "    self.skill=skill\n",
        "  \n",
        "  def test(self):\n",
        "    print(self.first_name)\n",
        "    print(self.last_name)\n",
        "    print(self.mail)\n",
        "    print(self.phone)\n",
        "    print(self.skill)\n",
        "\n",
        "    "
      ],
      "execution_count": null,
      "outputs": []
    },
    {
      "cell_type": "code",
      "metadata": {
        "colab": {
          "base_uri": "https://localhost:8080/",
          "height": 36
        },
        "id": "CwObXc9O0ihH",
        "outputId": "4cbc1bbd-9ee3-4c8a-bc87-ad5548d09257"
      },
      "source": [
        "p1=mock(\"sam\",\"raj\",\"samcse\",\"9080\",\"python\")\n",
        "p1._phone\n"
      ],
      "execution_count": null,
      "outputs": [
        {
          "output_type": "execute_result",
          "data": {
            "application/vnd.google.colaboratory.intrinsic+json": {
              "type": "string"
            },
            "text/plain": [
              "'9080'"
            ]
          },
          "metadata": {},
          "execution_count": 78
        }
      ]
    },
    {
      "cell_type": "code",
      "metadata": {
        "id": "a2nbvrqj0u0i"
      },
      "source": [
        "#protected\n",
        "class mock:\n",
        "  first_name='samraj'\n",
        "  def __init__(self,last_name,mail,phone,skill):\n",
        "    self.last_name=last_name\n",
        "    self.mail=mail\n",
        "    self.phone=phone\n",
        "    self.skill=skill\n",
        "  \n",
        "  def test(self):\n",
        "    print(self.last_name)\n",
        "    print(self.mail)\n",
        "    print(self.phone)\n",
        "    print(self.skill)\n",
        "\n",
        "  \n",
        "class Mock1(mock):\n",
        "  def __init__(self,home):\n",
        "    super().__init__(\"raj\",\"samcse\",\"9080\",\"python\")\n",
        "    self.home=home\n",
        "  def home(self):\n",
        "    print(self.home)\n"
      ],
      "execution_count": null,
      "outputs": []
    },
    {
      "cell_type": "code",
      "metadata": {
        "id": "Fyr7-mt71dRL"
      },
      "source": [
        "p1=mock(\"raj\",\"samcse\",\"9080\",\"python\")"
      ],
      "execution_count": null,
      "outputs": []
    },
    {
      "cell_type": "code",
      "metadata": {
        "id": "jN_OWaN02tOw"
      },
      "source": [
        "p2=Mock1(\"sm\")"
      ],
      "execution_count": null,
      "outputs": []
    },
    {
      "cell_type": "code",
      "metadata": {
        "id": "7Mah4xkOsOGu"
      },
      "source": [
        "#private\n",
        "class mock:\n",
        "  first_name='samraj'\n",
        "  def __init__(self,last_name,mail,phone,skill):\n",
        "    self.__last_name=last_name\n",
        "    self.__mail=mail\n",
        "    self.__phone=phone\n",
        "    self.skill=skill\n",
        "  \n",
        "  def test(self):\n",
        "    print(self.last_name)\n",
        "    print(self.mail)\n",
        "    print(self.phone)\n",
        "    print(self.skill)\n",
        "\n",
        "  \n",
        "class Mock1(mock):\n",
        "  def __init__(self,home):\n",
        "    super().__init__(\"raj\",\"samcse\",\"9080\",\"python\")\n",
        "    self.home=home\n",
        "  def home(self):\n",
        "    print(self.home)\n"
      ],
      "execution_count": null,
      "outputs": []
    },
    {
      "cell_type": "markdown",
      "metadata": {
        "id": "QjwR9kcEsi_J"
      },
      "source": [
        "practice"
      ]
    },
    {
      "cell_type": "code",
      "metadata": {
        "id": "pLRhvOag8rpt"
      },
      "source": [
        "import pandas as pd\n",
        "import numpy as np"
      ],
      "execution_count": null,
      "outputs": []
    },
    {
      "cell_type": "code",
      "metadata": {
        "id": "7wTJpdjEA_Uu"
      },
      "source": [
        "ar=np.array([[1,2,3,4],[3,4,5,7.0],[7,8,9,9.8],[1.2,2.3,4.3,5.6],[7,8,9,9.8],[1.2,2.3,4.3,5.6]])"
      ],
      "execution_count": null,
      "outputs": []
    },
    {
      "cell_type": "code",
      "metadata": {
        "id": "7qMlfN8gBFrY"
      },
      "source": [
        "df=pd.DataFrame(ar)"
      ],
      "execution_count": null,
      "outputs": []
    },
    {
      "cell_type": "code",
      "metadata": {
        "colab": {
          "base_uri": "https://localhost:8080/",
          "height": 175
        },
        "id": "LIV9TXCECiZU",
        "outputId": "4c8ed785-4bb9-48d9-ad49-f78228f3f2d1"
      },
      "source": [
        "df.corr()"
      ],
      "execution_count": null,
      "outputs": [
        {
          "output_type": "execute_result",
          "data": {
            "text/html": [
              "<div>\n",
              "<style scoped>\n",
              "    .dataframe tbody tr th:only-of-type {\n",
              "        vertical-align: middle;\n",
              "    }\n",
              "\n",
              "    .dataframe tbody tr th {\n",
              "        vertical-align: top;\n",
              "    }\n",
              "\n",
              "    .dataframe thead th {\n",
              "        text-align: right;\n",
              "    }\n",
              "</style>\n",
              "<table border=\"1\" class=\"dataframe\">\n",
              "  <thead>\n",
              "    <tr style=\"text-align: right;\">\n",
              "      <th></th>\n",
              "      <th>0</th>\n",
              "      <th>1</th>\n",
              "      <th>2</th>\n",
              "      <th>3</th>\n",
              "    </tr>\n",
              "  </thead>\n",
              "  <tbody>\n",
              "    <tr>\n",
              "      <th>0</th>\n",
              "      <td>1.000000</td>\n",
              "      <td>0.999893</td>\n",
              "      <td>0.984195</td>\n",
              "      <td>0.972843</td>\n",
              "    </tr>\n",
              "    <tr>\n",
              "      <th>1</th>\n",
              "      <td>0.999893</td>\n",
              "      <td>1.000000</td>\n",
              "      <td>0.986676</td>\n",
              "      <td>0.975141</td>\n",
              "    </tr>\n",
              "    <tr>\n",
              "      <th>2</th>\n",
              "      <td>0.984195</td>\n",
              "      <td>0.986676</td>\n",
              "      <td>1.000000</td>\n",
              "      <td>0.986592</td>\n",
              "    </tr>\n",
              "    <tr>\n",
              "      <th>3</th>\n",
              "      <td>0.972843</td>\n",
              "      <td>0.975141</td>\n",
              "      <td>0.986592</td>\n",
              "      <td>1.000000</td>\n",
              "    </tr>\n",
              "  </tbody>\n",
              "</table>\n",
              "</div>"
            ],
            "text/plain": [
              "          0         1         2         3\n",
              "0  1.000000  0.999893  0.984195  0.972843\n",
              "1  0.999893  1.000000  0.986676  0.975141\n",
              "2  0.984195  0.986676  1.000000  0.986592\n",
              "3  0.972843  0.975141  0.986592  1.000000"
            ]
          },
          "metadata": {},
          "execution_count": 150
        }
      ]
    },
    {
      "cell_type": "code",
      "metadata": {
        "id": "FcSO8x3ZC6Ez"
      },
      "source": [
        "df=pd.read_csv(\"Iris.csv\")"
      ],
      "execution_count": null,
      "outputs": []
    },
    {
      "cell_type": "code",
      "metadata": {
        "colab": {
          "base_uri": "https://localhost:8080/",
          "height": 206
        },
        "id": "3aS0Rf_eHglK",
        "outputId": "fc949f0c-d036-4820-c55f-e4735c4aa8a8"
      },
      "source": [
        "df.head()"
      ],
      "execution_count": null,
      "outputs": [
        {
          "output_type": "execute_result",
          "data": {
            "text/html": [
              "<div>\n",
              "<style scoped>\n",
              "    .dataframe tbody tr th:only-of-type {\n",
              "        vertical-align: middle;\n",
              "    }\n",
              "\n",
              "    .dataframe tbody tr th {\n",
              "        vertical-align: top;\n",
              "    }\n",
              "\n",
              "    .dataframe thead th {\n",
              "        text-align: right;\n",
              "    }\n",
              "</style>\n",
              "<table border=\"1\" class=\"dataframe\">\n",
              "  <thead>\n",
              "    <tr style=\"text-align: right;\">\n",
              "      <th></th>\n",
              "      <th>Id</th>\n",
              "      <th>SepalLengthCm</th>\n",
              "      <th>SepalWidthCm</th>\n",
              "      <th>PetalLengthCm</th>\n",
              "      <th>PetalWidthCm</th>\n",
              "      <th>Species</th>\n",
              "    </tr>\n",
              "  </thead>\n",
              "  <tbody>\n",
              "    <tr>\n",
              "      <th>0</th>\n",
              "      <td>1</td>\n",
              "      <td>5.1</td>\n",
              "      <td>3.5</td>\n",
              "      <td>1.4</td>\n",
              "      <td>0.2</td>\n",
              "      <td>Iris-setosa</td>\n",
              "    </tr>\n",
              "    <tr>\n",
              "      <th>1</th>\n",
              "      <td>2</td>\n",
              "      <td>4.9</td>\n",
              "      <td>3.0</td>\n",
              "      <td>1.4</td>\n",
              "      <td>0.2</td>\n",
              "      <td>Iris-setosa</td>\n",
              "    </tr>\n",
              "    <tr>\n",
              "      <th>2</th>\n",
              "      <td>3</td>\n",
              "      <td>4.7</td>\n",
              "      <td>3.2</td>\n",
              "      <td>1.3</td>\n",
              "      <td>0.2</td>\n",
              "      <td>Iris-setosa</td>\n",
              "    </tr>\n",
              "    <tr>\n",
              "      <th>3</th>\n",
              "      <td>4</td>\n",
              "      <td>4.6</td>\n",
              "      <td>3.1</td>\n",
              "      <td>1.5</td>\n",
              "      <td>0.2</td>\n",
              "      <td>Iris-setosa</td>\n",
              "    </tr>\n",
              "    <tr>\n",
              "      <th>4</th>\n",
              "      <td>5</td>\n",
              "      <td>5.0</td>\n",
              "      <td>3.6</td>\n",
              "      <td>1.4</td>\n",
              "      <td>0.2</td>\n",
              "      <td>Iris-setosa</td>\n",
              "    </tr>\n",
              "  </tbody>\n",
              "</table>\n",
              "</div>"
            ],
            "text/plain": [
              "   Id  SepalLengthCm  SepalWidthCm  PetalLengthCm  PetalWidthCm      Species\n",
              "0   1            5.1           3.5            1.4           0.2  Iris-setosa\n",
              "1   2            4.9           3.0            1.4           0.2  Iris-setosa\n",
              "2   3            4.7           3.2            1.3           0.2  Iris-setosa\n",
              "3   4            4.6           3.1            1.5           0.2  Iris-setosa\n",
              "4   5            5.0           3.6            1.4           0.2  Iris-setosa"
            ]
          },
          "metadata": {},
          "execution_count": 152
        }
      ]
    },
    {
      "cell_type": "code",
      "metadata": {
        "colab": {
          "base_uri": "https://localhost:8080/"
        },
        "id": "7WvmYq5XHh-G",
        "outputId": "7d8a1435-5a4a-4d68-91ca-2ff4bc884bdf"
      },
      "source": [
        "df.isnull().sum()"
      ],
      "execution_count": null,
      "outputs": [
        {
          "output_type": "execute_result",
          "data": {
            "text/plain": [
              "Id               0\n",
              "SepalLengthCm    0\n",
              "SepalWidthCm     0\n",
              "PetalLengthCm    0\n",
              "PetalWidthCm     0\n",
              "Species          0\n",
              "dtype: int64"
            ]
          },
          "metadata": {},
          "execution_count": 153
        }
      ]
    },
    {
      "cell_type": "code",
      "metadata": {
        "colab": {
          "base_uri": "https://localhost:8080/"
        },
        "id": "ndEbqdP1HmCD",
        "outputId": "6f200817-a66c-4083-c93e-bb3bb23572f4"
      },
      "source": [
        "df['SepalLengthCm'].value_counts()"
      ],
      "execution_count": null,
      "outputs": [
        {
          "output_type": "execute_result",
          "data": {
            "text/plain": [
              "5.0    10\n",
              "6.3     9\n",
              "5.1     9\n",
              "6.7     8\n",
              "5.7     8\n",
              "5.5     7\n",
              "5.8     7\n",
              "6.4     7\n",
              "6.0     6\n",
              "4.9     6\n",
              "6.1     6\n",
              "5.4     6\n",
              "5.6     6\n",
              "6.5     5\n",
              "4.8     5\n",
              "7.7     4\n",
              "6.9     4\n",
              "5.2     4\n",
              "6.2     4\n",
              "4.6     4\n",
              "7.2     3\n",
              "6.8     3\n",
              "4.4     3\n",
              "5.9     3\n",
              "6.6     2\n",
              "4.7     2\n",
              "7.6     1\n",
              "7.4     1\n",
              "4.3     1\n",
              "7.9     1\n",
              "7.3     1\n",
              "7.0     1\n",
              "4.5     1\n",
              "5.3     1\n",
              "7.1     1\n",
              "Name: SepalLengthCm, dtype: int64"
            ]
          },
          "metadata": {},
          "execution_count": 155
        }
      ]
    },
    {
      "cell_type": "code",
      "metadata": {
        "id": "Y_Z35VwcHrrY"
      },
      "source": [
        "import seaborn as sns"
      ],
      "execution_count": null,
      "outputs": []
    },
    {
      "cell_type": "code",
      "metadata": {
        "colab": {
          "base_uri": "https://localhost:8080/",
          "height": 354
        },
        "id": "Ux8Uo3CXHya1",
        "outputId": "ba2db8be-8920-474d-fb6e-d5fa60085370"
      },
      "source": [
        "sns.boxplot(df['SepalLengthCm'],df['Species'])"
      ],
      "execution_count": null,
      "outputs": [
        {
          "output_type": "stream",
          "text": [
            "/usr/local/lib/python3.7/dist-packages/seaborn/_decorators.py:43: FutureWarning: Pass the following variables as keyword args: x, y. From version 0.12, the only valid positional argument will be `data`, and passing other arguments without an explicit keyword will result in an error or misinterpretation.\n",
            "  FutureWarning\n"
          ],
          "name": "stderr"
        },
        {
          "output_type": "execute_result",
          "data": {
            "text/plain": [
              "<matplotlib.axes._subplots.AxesSubplot at 0x7f323baf3950>"
            ]
          },
          "metadata": {},
          "execution_count": 157
        },
        {
          "output_type": "display_data",
          "data": {
            "image/png": "[encoded data removed]",
            "text/plain": [
              "<Figure size 432x288 with 1 Axes>"
            ]
          },
          "metadata": {
            "needs_background": "light"
          }
        }
      ]
    },
    {
      "cell_type": "code",
      "metadata": {
        "id": "A_qmQ4rSH7LY"
      },
      "source": [
        "from sklearn.feature_selection import SelectKBest\n",
        "from sklearn.feature_selection import chi2\n",
        "\n",
        "x=df.iloc[:,:-1]\n",
        "y=df.iloc[:,-1]"
      ],
      "execution_count": null,
      "outputs": []
    },
    {
      "cell_type": "code",
      "metadata": {
        "id": "YfssWAjjJr4H"
      },
      "source": [
        "chi2_features=SelectKBest(chi2,k=3)"
      ],
      "execution_count": null,
      "outputs": []
    },
    {
      "cell_type": "code",
      "metadata": {
        "id": "wqzbZEstJ4Hu"
      },
      "source": [
        "f=chi2_features.fit_transform(x,y)"
      ],
      "execution_count": null,
      "outputs": []
    },
    {
      "cell_type": "code",
      "metadata": {
        "colab": {
          "base_uri": "https://localhost:8080/"
        },
        "id": "k9Z0KZNWJ8TS",
        "outputId": "2805af48-a379-4d66-aabc-8cc0a42daacb"
      },
      "source": [
        "x.shape[1]"
      ],
      "execution_count": null,
      "outputs": [
        {
          "output_type": "execute_result",
          "data": {
            "text/plain": [
              "5"
            ]
          },
          "metadata": {},
          "execution_count": 166
        }
      ]
    },
    {
      "cell_type": "code",
      "metadata": {
        "colab": {
          "base_uri": "https://localhost:8080/"
        },
        "id": "cvy2Et_rKFo4",
        "outputId": "746b7ced-1e3d-4e16-ba90-f39db097437f"
      },
      "source": [
        "f.shape[1]"
      ],
      "execution_count": null,
      "outputs": [
        {
          "output_type": "execute_result",
          "data": {
            "text/plain": [
              "3"
            ]
          },
          "metadata": {},
          "execution_count": 164
        }
      ]
    },
    {
      "cell_type": "code",
      "metadata": {
        "colab": {
          "base_uri": "https://localhost:8080/"
        },
        "id": "ydwF5U-3KKO7",
        "outputId": "6f7d9085-70e9-4625-9afe-698013209faa"
      },
      "source": [
        "f"
      ],
      "execution_count": null,
      "outputs": [
        {
          "output_type": "execute_result",
          "data": {
            "text/plain": [
              "array([[1.00e+00, 1.40e+00, 2.00e-01],\n",
              "       [2.00e+00, 1.40e+00, 2.00e-01],\n",
              "       [3.00e+00, 1.30e+00, 2.00e-01],\n",
              "       [4.00e+00, 1.50e+00, 2.00e-01],\n",
              "       [5.00e+00, 1.40e+00, 2.00e-01],\n",
              "       [6.00e+00, 1.70e+00, 4.00e-01],\n",
              "       [7.00e+00, 1.40e+00, 3.00e-01],\n",
              "       [8.00e+00, 1.50e+00, 2.00e-01],\n",
              "       [9.00e+00, 1.40e+00, 2.00e-01],\n",
              "       [1.00e+01, 1.50e+00, 1.00e-01],\n",
              "       [1.10e+01, 1.50e+00, 2.00e-01],\n",
              "       [1.20e+01, 1.60e+00, 2.00e-01],\n",
              "       [1.30e+01, 1.40e+00, 1.00e-01],\n",
              "       [1.40e+01, 1.10e+00, 1.00e-01],\n",
              "       [1.50e+01, 1.20e+00, 2.00e-01],\n",
              "       [1.60e+01, 1.50e+00, 4.00e-01],\n",
              "       [1.70e+01, 1.30e+00, 4.00e-01],\n",
              "       [1.80e+01, 1.40e+00, 3.00e-01],\n",
              "       [1.90e+01, 1.70e+00, 3.00e-01],\n",
              "       [2.00e+01, 1.50e+00, 3.00e-01],\n",
              "       [2.10e+01, 1.70e+00, 2.00e-01],\n",
              "       [2.20e+01, 1.50e+00, 4.00e-01],\n",
              "       [2.30e+01, 1.00e+00, 2.00e-01],\n",
              "       [2.40e+01, 1.70e+00, 5.00e-01],\n",
              "       [2.50e+01, 1.90e+00, 2.00e-01],\n",
              "       [2.60e+01, 1.60e+00, 2.00e-01],\n",
              "       [2.70e+01, 1.60e+00, 4.00e-01],\n",
              "       [2.80e+01, 1.50e+00, 2.00e-01],\n",
              "       [2.90e+01, 1.40e+00, 2.00e-01],\n",
              "       [3.00e+01, 1.60e+00, 2.00e-01],\n",
              "       [3.10e+01, 1.60e+00, 2.00e-01],\n",
              "       [3.20e+01, 1.50e+00, 4.00e-01],\n",
              "       [3.30e+01, 1.50e+00, 1.00e-01],\n",
              "       [3.40e+01, 1.40e+00, 2.00e-01],\n",
              "       [3.50e+01, 1.50e+00, 1.00e-01],\n",
              "       [3.60e+01, 1.20e+00, 2.00e-01],\n",
              "       [3.70e+01, 1.30e+00, 2.00e-01],\n",
              "       [3.80e+01, 1.50e+00, 1.00e-01],\n",
              "       [3.90e+01, 1.30e+00, 2.00e-01],\n",
              "       [4.00e+01, 1.50e+00, 2.00e-01],\n",
              "       [4.10e+01, 1.30e+00, 3.00e-01],\n",
              "       [4.20e+01, 1.30e+00, 3.00e-01],\n",
              "       [4.30e+01, 1.30e+00, 2.00e-01],\n",
              "       [4.40e+01, 1.60e+00, 6.00e-01],\n",
              "       [4.50e+01, 1.90e+00, 4.00e-01],\n",
              "       [4.60e+01, 1.40e+00, 3.00e-01],\n",
              "       [4.70e+01, 1.60e+00, 2.00e-01],\n",
              "       [4.80e+01, 1.40e+00, 2.00e-01],\n",
              "       [4.90e+01, 1.50e+00, 2.00e-01],\n",
              "       [5.00e+01, 1.40e+00, 2.00e-01],\n",
              "       [5.10e+01, 4.70e+00, 1.40e+00],\n",
              "       [5.20e+01, 4.50e+00, 1.50e+00],\n",
              "       [5.30e+01, 4.90e+00, 1.50e+00],\n",
              "       [5.40e+01, 4.00e+00, 1.30e+00],\n",
              "       [5.50e+01, 4.60e+00, 1.50e+00],\n",
              "       [5.60e+01, 4.50e+00, 1.30e+00],\n",
              "       [5.70e+01, 4.70e+00, 1.60e+00],\n",
              "       [5.80e+01, 3.30e+00, 1.00e+00],\n",
              "       [5.90e+01, 4.60e+00, 1.30e+00],\n",
              "       [6.00e+01, 3.90e+00, 1.40e+00],\n",
              "       [6.10e+01, 3.50e+00, 1.00e+00],\n",
              "       [6.20e+01, 4.20e+00, 1.50e+00],\n",
              "       [6.30e+01, 4.00e+00, 1.00e+00],\n",
              "       [6.40e+01, 4.70e+00, 1.40e+00],\n",
              "       [6.50e+01, 3.60e+00, 1.30e+00],\n",
              "       [6.60e+01, 4.40e+00, 1.40e+00],\n",
              "       [6.70e+01, 4.50e+00, 1.50e+00],\n",
              "       [6.80e+01, 4.10e+00, 1.00e+00],\n",
              "       [6.90e+01, 4.50e+00, 1.50e+00],\n",
              "       [7.00e+01, 3.90e+00, 1.10e+00],\n",
              "       [7.10e+01, 4.80e+00, 1.80e+00],\n",
              "       [7.20e+01, 4.00e+00, 1.30e+00],\n",
              "       [7.30e+01, 4.90e+00, 1.50e+00],\n",
              "       [7.40e+01, 4.70e+00, 1.20e+00],\n",
              "       [7.50e+01, 4.30e+00, 1.30e+00],\n",
              "       [7.60e+01, 4.40e+00, 1.40e+00],\n",
              "       [7.70e+01, 4.80e+00, 1.40e+00],\n",
              "       [7.80e+01, 5.00e+00, 1.70e+00],\n",
              "       [7.90e+01, 4.50e+00, 1.50e+00],\n",
              "       [8.00e+01, 3.50e+00, 1.00e+00],\n",
              "       [8.10e+01, 3.80e+00, 1.10e+00],\n",
              "       [8.20e+01, 3.70e+00, 1.00e+00],\n",
              "       [8.30e+01, 3.90e+00, 1.20e+00],\n",
              "       [8.40e+01, 5.10e+00, 1.60e+00],\n",
              "       [8.50e+01, 4.50e+00, 1.50e+00],\n",
              "       [8.60e+01, 4.50e+00, 1.60e+00],\n",
              "       [8.70e+01, 4.70e+00, 1.50e+00],\n",
              "       [8.80e+01, 4.40e+00, 1.30e+00],\n",
              "       [8.90e+01, 4.10e+00, 1.30e+00],\n",
              "       [9.00e+01, 4.00e+00, 1.30e+00],\n",
              "       [9.10e+01, 4.40e+00, 1.20e+00],\n",
              "       [9.20e+01, 4.60e+00, 1.40e+00],\n",
              "       [9.30e+01, 4.00e+00, 1.20e+00],\n",
              "       [9.40e+01, 3.30e+00, 1.00e+00],\n",
              "       [9.50e+01, 4.20e+00, 1.30e+00],\n",
              "       [9.60e+01, 4.20e+00, 1.20e+00],\n",
              "       [9.70e+01, 4.20e+00, 1.30e+00],\n",
              "       [9.80e+01, 4.30e+00, 1.30e+00],\n",
              "       [9.90e+01, 3.00e+00, 1.10e+00],\n",
              "       [1.00e+02, 4.10e+00, 1.30e+00],\n",
              "       [1.01e+02, 6.00e+00, 2.50e+00],\n",
              "       [1.02e+02, 5.10e+00, 1.90e+00],\n",
              "       [1.03e+02, 5.90e+00, 2.10e+00],\n",
              "       [1.04e+02, 5.60e+00, 1.80e+00],\n",
              "       [1.05e+02, 5.80e+00, 2.20e+00],\n",
              "       [1.06e+02, 6.60e+00, 2.10e+00],\n",
              "       [1.07e+02, 4.50e+00, 1.70e+00],\n",
              "       [1.08e+02, 6.30e+00, 1.80e+00],\n",
              "       [1.09e+02, 5.80e+00, 1.80e+00],\n",
              "       [1.10e+02, 6.10e+00, 2.50e+00],\n",
              "       [1.11e+02, 5.10e+00, 2.00e+00],\n",
              "       [1.12e+02, 5.30e+00, 1.90e+00],\n",
              "       [1.13e+02, 5.50e+00, 2.10e+00],\n",
              "       [1.14e+02, 5.00e+00, 2.00e+00],\n",
              "       [1.15e+02, 5.10e+00, 2.40e+00],\n",
              "       [1.16e+02, 5.30e+00, 2.30e+00],\n",
              "       [1.17e+02, 5.50e+00, 1.80e+00],\n",
              "       [1.18e+02, 6.70e+00, 2.20e+00],\n",
              "       [1.19e+02, 6.90e+00, 2.30e+00],\n",
              "       [1.20e+02, 5.00e+00, 1.50e+00],\n",
              "       [1.21e+02, 5.70e+00, 2.30e+00],\n",
              "       [1.22e+02, 4.90e+00, 2.00e+00],\n",
              "       [1.23e+02, 6.70e+00, 2.00e+00],\n",
              "       [1.24e+02, 4.90e+00, 1.80e+00],\n",
              "       [1.25e+02, 5.70e+00, 2.10e+00],\n",
              "       [1.26e+02, 6.00e+00, 1.80e+00],\n",
              "       [1.27e+02, 4.80e+00, 1.80e+00],\n",
              "       [1.28e+02, 4.90e+00, 1.80e+00],\n",
              "       [1.29e+02, 5.60e+00, 2.10e+00],\n",
              "       [1.30e+02, 5.80e+00, 1.60e+00],\n",
              "       [1.31e+02, 6.10e+00, 1.90e+00],\n",
              "       [1.32e+02, 6.40e+00, 2.00e+00],\n",
              "       [1.33e+02, 5.60e+00, 2.20e+00],\n",
              "       [1.34e+02, 5.10e+00, 1.50e+00],\n",
              "       [1.35e+02, 5.60e+00, 1.40e+00],\n",
              "       [1.36e+02, 6.10e+00, 2.30e+00],\n",
              "       [1.37e+02, 5.60e+00, 2.40e+00],\n",
              "       [1.38e+02, 5.50e+00, 1.80e+00],\n",
              "       [1.39e+02, 4.80e+00, 1.80e+00],\n",
              "       [1.40e+02, 5.40e+00, 2.10e+00],\n",
              "       [1.41e+02, 5.60e+00, 2.40e+00],\n",
              "       [1.42e+02, 5.10e+00, 2.30e+00],\n",
              "       [1.43e+02, 5.10e+00, 1.90e+00],\n",
              "       [1.44e+02, 5.90e+00, 2.30e+00],\n",
              "       [1.45e+02, 5.70e+00, 2.50e+00],\n",
              "       [1.46e+02, 5.20e+00, 2.30e+00],\n",
              "       [1.47e+02, 5.00e+00, 1.90e+00],\n",
              "       [1.48e+02, 5.20e+00, 2.00e+00],\n",
              "       [1.49e+02, 5.40e+00, 2.30e+00],\n",
              "       [1.50e+02, 5.10e+00, 1.80e+00]])"
            ]
          },
          "metadata": {},
          "execution_count": 167
        }
      ]
    },
    {
      "cell_type": "code",
      "metadata": {
        "id": "38xnrIscKSmJ"
      },
      "source": [
        ""
      ],
      "execution_count": null,
      "outputs": []
    }
  ]
}